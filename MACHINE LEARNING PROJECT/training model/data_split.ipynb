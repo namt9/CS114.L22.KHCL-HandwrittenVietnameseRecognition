{
 "cells": [
  {
   "cell_type": "code",
   "execution_count": 1,
   "metadata": {},
   "outputs": [
    {
     "name": "stdout",
     "output_type": "stream",
     "text": [
      "['a', 'b', 'c', 'd', 'e', 'g', 'h', 'i', 'k', 'l', 'm', 'n', 'o', 'p', 'q', 'r', 's', 't', 'u', 'v', 'x', 'y', 'à', 'á', 'â', 'ã', 'è', 'é', 'ê', 'ì', 'í', 'ò', 'ó', 'ô', 'õ', 'ù', 'ú', 'ý', 'ă', 'đ', 'ĩ', 'ũ', 'ơ', 'ư', 'ạ', 'ả', 'ấ', 'ầ', 'ẩ', 'ẫ', 'ậ', 'ắ', 'ằ', 'ẳ', 'ẵ', 'ặ', 'ẹ', 'ẻ', 'ẽ', 'ế', 'ề', 'ể', 'ễ', 'ệ', 'ỉ', 'ị', 'ọ', 'ỏ', 'ố', 'ồ', 'ổ', 'ỗ', 'ộ', 'ớ', 'ờ', 'ở', 'ỡ', 'ợ', 'ụ', 'ủ', 'ứ', 'ừ', 'ử', 'ữ', 'ự', 'ỳ', 'ỵ', 'ỷ', 'ỹ']\n"
     ]
    }
   ],
   "source": [
    "import os\n",
    "\n",
    "list_folders = (sorted(os.listdir('E:/HandwrittenVietnameseRecognition/dataset')))\n",
    "print(list_folders)"
   ]
  },
  {
   "cell_type": "code",
   "execution_count": 2,
   "metadata": {},
   "outputs": [
    {
     "name": "stdout",
     "output_type": "stream",
     "text": [
      "[112, 130, 148, 138, 104, 202, 255, 305, 390, 278, 292, 294, 178, 331, 296, 246, 283, 302, 346, 269, 316, 315, 123, 173, 98, 121, 233, 259, 279, 282, 265, 143, 146, 208, 146, 300, 341, 239, 125, 229, 313, 262, 213, 295, 108, 129, 95, 102, 124, 118, 92, 89, 113, 91, 100, 104, 256, 245, 206, 247, 239, 247, 219, 186, 275, 331, 245, 137, 205, 207, 169, 182, 218, 199, 243, 249, 229, 251, 267, 296, 233, 246, 252, 257, 217, 308, 204, 196, 180]\n"
     ]
    }
   ],
   "source": [
    "folder_len = []\n",
    "for i in list_folders:\n",
    "    folder_len.append(len(sorted(os.listdir('E:/HandwrittenVietnameseRecognition/dataset/' + i))))\n",
    "\n",
    "print(folder_len)"
   ]
  },
  {
   "cell_type": "code",
   "execution_count": 3,
   "metadata": {},
   "outputs": [],
   "source": [
    "try:\n",
    "    os.mkdir('E:/HandwrittenVietnameseRecognition/data_train')\n",
    "    os.mkdir('E:/HandwrittenVietnameseRecognition/data_test')\n",
    "except:\n",
    "    pass\n",
    "\n",
    "for i in list_folders:\n",
    "    try:\n",
    "        os.mkdir('E:/HandwrittenVietnameseRecognition/data_train/' + i)\n",
    "        os.mkdir('E:/HandwrittenVietnameseRecognition/data_test/' + i)\n",
    "    except:\n",
    "        break\n"
   ]
  },
  {
   "cell_type": "code",
   "execution_count": 4,
   "metadata": {},
   "outputs": [
    {
     "name": "stdout",
     "output_type": "stream",
     "text": [
      "[78, 91, 103, 96, 72, 141, 178, 213, 273, 194, 204, 205, 124, 231, 207, 172, 198, 211, 242, 188, 221, 220, 86, 121, 68, 84, 163, 181, 195, 197, 185, 100, 102, 145, 102, 210, 238, 167, 87, 160, 219, 183, 149, 206, 75, 90, 66, 71, 86, 82, 64, 62, 79, 63, 70, 72, 179, 171, 144, 172, 167, 172, 153, 130, 192, 231, 171, 95, 143, 144, 118, 127, 152, 139, 170, 174, 160, 175, 186, 207, 163, 172, 176, 179, 151, 215, 142, 137, 125]\n"
     ]
    }
   ],
   "source": [
    "train_size = []\n",
    "for i in folder_len:\n",
    "    train_size.append(int(i * 0.7))\n",
    "\n",
    "print(train_size)"
   ]
  },
  {
   "cell_type": "code",
   "execution_count": 5,
   "metadata": {},
   "outputs": [],
   "source": [
    "import shutil\n",
    "\n",
    "index = 0\n",
    "for i in folder_len:\n",
    "    for j in range(0, train_size[index]):\n",
    "        shutil.copy('E:/HandwrittenVietnameseRecognition/dataset/' + list_folders[index] + '/pic_' + str(j) + '.jpg', \n",
    "                    'E:/HandwrittenVietnameseRecognition/data_train/' + list_folders[index] + '/pic_' + str(j) + '.jpg')\n",
    "    index += 1"
   ]
  },
  {
   "cell_type": "code",
   "execution_count": 6,
   "metadata": {},
   "outputs": [],
   "source": [
    "index = 0\n",
    "for i in folder_len:\n",
    "    for j in range(train_size[index], folder_len[index]):\n",
    "        shutil.copy('E:/HandwrittenVietnameseRecognition/dataset/' + list_folders[index] + '/pic_' + str(j) + '.jpg', \n",
    "                    'E:/HandwrittenVietnameseRecognition/data_test/' + list_folders[index] + '/pic_' + str(j) + '.jpg')\n",
    "    index += 1"
   ]
  }
 ],
 "metadata": {
  "interpreter": {
   "hash": "d4537f6523d799823cbc379449d384bd78a1ed94685038b8aab56240f567eba2"
  },
  "kernelspec": {
   "display_name": "Python 3.9.9 64-bit (windows store)",
   "language": "python",
   "name": "python3"
  },
  "language_info": {
   "codemirror_mode": {
    "name": "ipython",
    "version": 3
   },
   "file_extension": ".py",
   "mimetype": "text/x-python",
   "name": "python",
   "nbconvert_exporter": "python",
   "pygments_lexer": "ipython3",
   "version": "3.9.9"
  },
  "orig_nbformat": 4
 },
 "nbformat": 4,
 "nbformat_minor": 2
}
