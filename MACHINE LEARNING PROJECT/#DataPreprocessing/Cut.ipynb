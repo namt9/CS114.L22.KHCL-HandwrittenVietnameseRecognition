{
  "nbformat": 4,
  "nbformat_minor": 0,
  "metadata": {
    "colab": {
      "name": "Cvt_and_resize.ipynb",
      "provenance": []
    },
    "kernelspec": {
      "display_name": "Python 3",
      "name": "python3"
    },
    "language_info": {
      "name": "python"
    }
  },
  "cells": [
    {
      "cell_type": "code",
      "metadata": {
        "colab": {
          "base_uri": "https://localhost:8080/"
        },
        "id": "_6Fwu_AAZ27b",
        "outputId": "b36ed8ec-4f16-41ee-e588-4e26ac33bf36"
      },
      "source": [
        "from google.colab import drive \n",
        "drive.mount('/content/drive')"
      ],
      "execution_count": null,
      "outputs": [
        {
          "output_type": "stream",
          "text": [
            "Mounted at /content/drive\n"
          ],
          "name": "stdout"
        }
      ]
    },
    {
      "cell_type": "code",
      "metadata": {
        "id": "YH4vq6zUajo2"
      },
      "source": [
        "folder = '/content/drive/MyDrive/data_test'"
      ],
      "execution_count": null,
      "outputs": []
    },
    {
      "cell_type": "code",
      "metadata": {
        "id": "iTNL61NBa4H1"
      },
      "source": [
        "import os\n",
        "import pandas as pd\n",
        "import matplotlib.pyplot as plt\n",
        "from PIL import Image\n",
        "import cv2\n",
        "import numpy as np"
      ],
      "execution_count": null,
      "outputs": []
    },
    {
      "cell_type": "code",
      "metadata": {
        "id": "iyZZ5HMlKRRb"
      },
      "source": [
        "FJoin = os.path.join"
      ],
      "execution_count": null,
      "outputs": []
    },
    {
      "cell_type": "code",
      "metadata": {
        "id": "LApc4j4-EfLi"
      },
      "source": [
        "list_img = sorted(os.listdir(folder))\n",
        "link_char = [FJoin(folder, f) for f in list_img]"
      ],
      "execution_count": null,
      "outputs": []
    },
    {
      "cell_type": "code",
      "metadata": {
        "colab": {
          "base_uri": "https://localhost:8080/"
        },
        "id": "JCht0CogzNbR",
        "outputId": "2ba0ae71-a172-483c-ac70-4d0d96feac5e"
      },
      "source": [
        "print(link_char)"
      ],
      "execution_count": null,
      "outputs": [
        {
          "output_type": "stream",
          "text": [
            "['/content/drive/MyDrive/test/a', '/content/drive/MyDrive/test/à', '/content/drive/MyDrive/test/á', '/content/drive/MyDrive/test/â', '/content/drive/MyDrive/test/ầ', '/content/drive/MyDrive/test/ấ', '/content/drive/MyDrive/test/ẫ', '/content/drive/MyDrive/test/ẩ', '/content/drive/MyDrive/test/ã', '/content/drive/MyDrive/test/ă', '/content/drive/MyDrive/test/ằ', '/content/drive/MyDrive/test/ắ', '/content/drive/MyDrive/test/ẵ', '/content/drive/MyDrive/test/ẳ', '/content/drive/MyDrive/test/ả', '/content/drive/MyDrive/test/ạ', '/content/drive/MyDrive/test/ậ', '/content/drive/MyDrive/test/ặ', '/content/drive/MyDrive/test/b', '/content/drive/MyDrive/test/c', '/content/drive/MyDrive/test/d', '/content/drive/MyDrive/test/e', '/content/drive/MyDrive/test/è', '/content/drive/MyDrive/test/é', '/content/drive/MyDrive/test/ê', '/content/drive/MyDrive/test/ề', '/content/drive/MyDrive/test/ế', '/content/drive/MyDrive/test/ễ', '/content/drive/MyDrive/test/ể', '/content/drive/MyDrive/test/ẽ', '/content/drive/MyDrive/test/ẻ', '/content/drive/MyDrive/test/ẹ', '/content/drive/MyDrive/test/ệ', '/content/drive/MyDrive/test/g', '/content/drive/MyDrive/test/h', '/content/drive/MyDrive/test/i', '/content/drive/MyDrive/test/ì', '/content/drive/MyDrive/test/í', '/content/drive/MyDrive/test/ĩ', '/content/drive/MyDrive/test/ỉ', '/content/drive/MyDrive/test/ị', '/content/drive/MyDrive/test/k', '/content/drive/MyDrive/test/l', '/content/drive/MyDrive/test/m', '/content/drive/MyDrive/test/n', '/content/drive/MyDrive/test/o', '/content/drive/MyDrive/test/ò', '/content/drive/MyDrive/test/ó', '/content/drive/MyDrive/test/ô', '/content/drive/MyDrive/test/ồ', '/content/drive/MyDrive/test/ố', '/content/drive/MyDrive/test/ỗ', '/content/drive/MyDrive/test/ổ', '/content/drive/MyDrive/test/õ', '/content/drive/MyDrive/test/ỏ', '/content/drive/MyDrive/test/ơ', '/content/drive/MyDrive/test/ờ', '/content/drive/MyDrive/test/ớ', '/content/drive/MyDrive/test/ỡ', '/content/drive/MyDrive/test/ở', '/content/drive/MyDrive/test/ợ', '/content/drive/MyDrive/test/ọ', '/content/drive/MyDrive/test/ộ', '/content/drive/MyDrive/test/p', '/content/drive/MyDrive/test/q', '/content/drive/MyDrive/test/r', '/content/drive/MyDrive/test/s', '/content/drive/MyDrive/test/t', '/content/drive/MyDrive/test/u', '/content/drive/MyDrive/test/ù', '/content/drive/MyDrive/test/ú', '/content/drive/MyDrive/test/ũ', '/content/drive/MyDrive/test/ủ', '/content/drive/MyDrive/test/ư', '/content/drive/MyDrive/test/ừ', '/content/drive/MyDrive/test/ứ', '/content/drive/MyDrive/test/ữ', '/content/drive/MyDrive/test/ử', '/content/drive/MyDrive/test/ự', '/content/drive/MyDrive/test/ụ', '/content/drive/MyDrive/test/v', '/content/drive/MyDrive/test/x', '/content/drive/MyDrive/test/y', '/content/drive/MyDrive/test/ỳ', '/content/drive/MyDrive/test/ý', '/content/drive/MyDrive/test/ỹ', '/content/drive/MyDrive/test/ỷ', '/content/drive/MyDrive/test/ỵ', '/content/drive/MyDrive/test/đ']\n"
          ],
          "name": "stdout"
        }
      ]
    },
    {
      "cell_type": "markdown",
      "metadata": {
        "id": "3uzgd437ac8g"
      },
      "source": [
        "hàm crop"
      ]
    },
    {
      "cell_type": "code",
      "metadata": {
        "id": "TIohiT_gSUDG"
      },
      "source": [
        "def crop_img(image):\n",
        "  thresh, inImg = cv2.threshold(image, 135, maxval=255, type=cv2.THRESH_BINARY)\n",
        "  inImg = 255 - inImg[:, :]\n",
        "\n",
        "  maxUp = inImg.shape[0]//2\n",
        "  maxDown = inImg.shape[0]//2\n",
        "  maxLeft = inImg.shape[1]//2\n",
        "  maxRight = inImg.shape[1]//2\n",
        "\n",
        "  for i in range(inImg.shape[0]):\n",
        "    for j in range(inImg.shape[1]):\n",
        "      if inImg[i][j] > 160:\n",
        "        if maxUp >= i: maxUp = i\n",
        "        if maxDown <= i: maxDown = i\n",
        "        if maxLeft >= j: maxLeft = j\n",
        "        if maxRight <= j: maxRight = j\n",
        "\n",
        "  editedImg = inImg[maxUp:maxDown+1, maxLeft:maxRight+1] \n",
        "  return editedImg"
      ],
      "execution_count": null,
      "outputs": []
    },
    {
      "cell_type": "code",
      "metadata": {
        "id": "bqFq2nc7AReU"
      },
      "source": [
        "folders_char = ['a', 'à', 'á', 'â', 'ầ', 'ấ', 'ẫ', 'ẩ', 'ã', 'ă', 'ằ', 'ắ', 'ẵ', 'ẳ', 'ả', 'ạ', 'ậ', 'ặ', 'b', 'c', 'd', 'e', 'è', 'é', 'ê', 'ề', 'ế', 'ễ', 'ể', 'ẽ', 'ẻ', 'ẹ', 'ệ', 'g', 'h', 'i', 'ì', 'í', 'ĩ', 'ỉ', 'ị', 'k', 'l', 'm', 'n', 'o', 'ò', 'ó', 'ô', 'ồ', 'ố', 'ỗ', 'ổ', 'õ', 'ỏ', 'ơ', 'ờ', 'ớ', 'ỡ', 'ở', 'ợ', 'ọ', 'ộ', 'p', 'q', 'r', 's', 't', 'u', 'ù', 'ú', 'ũ', 'ủ', 'ư', 'ừ', 'ứ', 'ữ', 'ử', 'ự', 'ụ', 'v', 'x', 'y', 'ỳ', 'ý', 'ỹ', 'ỷ', 'ỵ', 'đ']"
      ],
      "execution_count": null,
      "outputs": []
    },
    {
      "cell_type": "code",
      "metadata": {
        "id": "rvoYTRh60DEg"
      },
      "source": [
        "for char in folders_char:\n",
        "  a = os.listdir(folder + '/' + char)\n",
        "  count = 0\n",
        "  for i in a:\n",
        "    img = cv2.imread(folder + '/' + char + '/' + i, 0)\n",
        "    final = crop_img(img)\n",
        "    try:\n",
        "      cv2.imwrite('/content/drive/MyDrive/Binary_data_test/' + char + '/' + str(count) + '.jpg', final)\n",
        "      count += 1\n",
        "    except:\n",
        "      continue\n"
      ],
      "execution_count": null,
      "outputs": []
    }
  ]
}