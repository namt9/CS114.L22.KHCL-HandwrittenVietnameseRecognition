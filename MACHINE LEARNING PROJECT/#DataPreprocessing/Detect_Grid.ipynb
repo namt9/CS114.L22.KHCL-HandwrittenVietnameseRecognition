{
  "nbformat": 4,
  "nbformat_minor": 0,
  "metadata": {
    "colab": {
      "name": "Detect_Grid.ipynb",
      "provenance": [],
      "collapsed_sections": []
    },
    "kernelspec": {
      "display_name": "Python 3",
      "name": "python3"
    },
    "language_info": {
      "name": "python"
    }
  },
  "cells": [
    {
      "cell_type": "code",
      "metadata": {
        "colab": {
          "base_uri": "https://localhost:8080/"
        },
        "id": "wcQ21YCis0j9",
        "outputId": "eaf9c5a1-d5a3-4106-989b-5e9631a65ee9"
      },
      "source": [
        "from google.colab import drive\n",
        "drive.mount('/content/gdrive')"
      ],
      "execution_count": null,
      "outputs": [
        {
          "output_type": "stream",
          "text": [
            "Mounted at /content/gdrive\n"
          ],
          "name": "stdout"
        }
      ]
    },
    {
      "cell_type": "code",
      "metadata": {
        "id": "wnCBWDLgs51G"
      },
      "source": [
        "link_drive = \"/content/gdrive/My Drive/Final_Project/\""
      ],
      "execution_count": null,
      "outputs": []
    },
    {
      "cell_type": "code",
      "metadata": {
        "id": "6ixqaB3Ts7DX"
      },
      "source": [
        "import cv2\n",
        "from imutils import contours\n",
        "import numpy as np\n",
        "import matplotlib.pyplot as plt"
      ],
      "execution_count": null,
      "outputs": []
    },
    {
      "cell_type": "code",
      "metadata": {
        "id": "a5CBZdRpOAdJ"
      },
      "source": [
        "def Cut(image):\n",
        "  gray = cv2.cvtColor(image, cv2.COLOR_BGR2GRAY)\n",
        "  thresh = cv2.adaptiveThreshold(gray,255,cv2.ADAPTIVE_THRESH_GAUSSIAN_C, cv2.THRESH_BINARY_INV,57,5)\n",
        "  contours = cv2.findContours(thresh, cv2.RETR_EXTERNAL, cv2.CHAIN_APPROX_SIMPLE)[0]\n",
        "  max = -1\n",
        "  L = []\n",
        "  for cnt in contours:\n",
        "      x, y, w, h = cv2.boundingRect(cnt)\n",
        "      if cv2.contourArea(cnt) > max:\n",
        "          x_max, y_max, w_max, h_max = x, y, w, h\n",
        "          max = cv2.contourArea(cnt)\n",
        "  table = image[y_max:y_max+h_max, x_max:x_max+w_max]\n",
        "  return table"
      ],
      "execution_count": null,
      "outputs": []
    },
    {
      "cell_type": "code",
      "metadata": {
        "id": "vbPiH-Ffv2ua"
      },
      "source": [
        "image = cv2.imread('/content/gdrive/My Drive/Final_Project/56.jpg')\n",
        "image = Cut(image)\n",
        "#plt.figure(figsize=(10,20))\n",
        "#plt.imshow(image, cmap='gray')\n",
        "gray = cv2.cvtColor(image, cv2.COLOR_BGR2GRAY)\n",
        "thresh = cv2.adaptiveThreshold(gray,255,cv2.ADAPTIVE_THRESH_GAUSSIAN_C, cv2.THRESH_BINARY_INV,57,5)"
      ],
      "execution_count": null,
      "outputs": []
    },
    {
      "cell_type": "code",
      "metadata": {
        "id": "ygE7iKt3tE70"
      },
      "source": [
        "cnts = cv2.findContours(thresh, cv2.RETR_TREE, cv2.CHAIN_APPROX_SIMPLE)\n",
        "cnts = cnts[0] if len(cnts) == 2 else cnts[1]\n",
        "for c in cnts:\n",
        "    area = cv2.contourArea(c)\n",
        "    if area < 1000:\n",
        "        cv2.drawContours(thresh, [c], -1, (0,0,0), -1)\n",
        "# Fix horizontal and vertical lines\n",
        "# Xoá các yếu tố gây nhiễu\n",
        "vertical_kernel = cv2.getStructuringElement(cv2.MORPH_RECT, (1,5))\n",
        "thresh = cv2.morphologyEx(thresh, cv2.MORPH_CLOSE, vertical_kernel, iterations=9)\n",
        "horizontal_kernel = cv2.getStructuringElement(cv2.MORPH_RECT, (5,1))\n",
        "thresh = cv2.morphologyEx(thresh, cv2.MORPH_CLOSE, horizontal_kernel, iterations=4)\n",
        "\n",
        "# Sort by top to bottom and each row by left to right\n",
        "invert = 255 - thresh\n",
        "cnts = cv2.findContours(invert, cv2.RETR_TREE, cv2.CHAIN_APPROX_SIMPLE)\n",
        "cnts = cnts[0] if len(cnts) == 2 else cnts[1]\n",
        "(cnts, _) = contours.sort_contours(cnts, method=\"top-to-bottom\")\n",
        "\n",
        "data_rows = []\n",
        "row = []\n",
        "for (i, c) in enumerate(cnts, 1):\n",
        "    area = cv2.contourArea(c)\n",
        "    if area < 50000:\n",
        "        row.append(c)\n",
        "        if i % 9 == 0:  \n",
        "            (cnts, _) = contours.sort_contours(row, method=\"left-to-right\")\n",
        "            data_rows.append(cnts)\n",
        "            row = []"
      ],
      "execution_count": null,
      "outputs": []
    },
    {
      "cell_type": "code",
      "metadata": {
        "id": "B_SaMuqztmtX"
      },
      "source": [
        "name = 0\n",
        "for row in data_rows:\n",
        "  for c in row:\n",
        "    mask = np.zeros(image.shape, dtype=np.uint8)\n",
        "    cv2.drawContours(mask, [c], -1, (255,255,255), -1)\n",
        "    result = cv2.bitwise_and(image, mask)\n",
        "    result[mask==0] = 255\n",
        "    img_result = result\n",
        "    try:\n",
        "      final = Cut(img_result)\n",
        "      final = cv2.cvtColor(final, cv2.COLOR_BGR2GRAY)\n",
        "      final = cv2.cvtColor(final, cv2.COLOR_GRAY2RGB)\n",
        "      cv2.imwrite('/content/gdrive/My Drive/data_test/' + str(name) + '.jpg' , final) \n",
        "      count += 1\n",
        "    except:\n",
        "      continue"
      ],
      "execution_count": null,
      "outputs": []
    }
  ]
}